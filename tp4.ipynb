{
 "cells": [
  {
   "cell_type": "markdown",
   "id": "3e4771e8",
   "metadata": {},
   "source": [
    "# Trabajo Practico n4 - Introduccion a numpy.\n",
    "## Criterios de evaluación.\n",
    "\n",
    "* Se deben utilizar nombres de variables descriptivos y claros (Utilizar la nomeclatura correspondiente para los nombres de variables).\n",
    "* Comentarios claros y concisos que expliquen el propósito de cada sección del código.\n",
    "* Utilizar mensajes de commit **descriptivos**. (Puedes utilizar la extension CONVENTIONAL COMMIT de VS-CODE). \n",
    "* Entrega en tiempo y forma.\n",
    "* Todo el código desarrollado debe ser subido a un repositorio en GitHub (el nombre del repositorio de seguir la siguiente estructura: tp4_tlp3_nombre_apellido).\n",
    "* Para resolver las actividades se debe insertar casillas de codigo entre cada actividad del cuaderno de Jupyter\n",
    "\n",
    "### ¡Importante!\n",
    "**El incumplimiento de los criterios de evaluación restará puntos en la nota final del práctico!**"
   ]
  },
  {
   "cell_type": "markdown",
   "id": "6f3340d9",
   "metadata": {},
   "source": [
    "**Importaciones:**"
   ]
  },
  {
   "cell_type": "code",
   "execution_count": 1,
   "id": "783ab170",
   "metadata": {},
   "outputs": [],
   "source": [
    "import numpy as np\n",
    "from random import randint"
   ]
  },
  {
   "cell_type": "markdown",
   "id": "c5ba7292",
   "metadata": {},
   "source": [
    "**Actividad 1:**: Crea un array de NumPy que contenga los números del 0 al 9. (Debes utilizar un metodo de numpy para su creacion.)"
   ]
  },
  {
   "cell_type": "code",
   "execution_count": 3,
   "id": "75029034",
   "metadata": {},
   "outputs": [
    {
     "name": "stdout",
     "output_type": "stream",
     "text": [
      "[0 1 2 3 4 5 6 7 8 9]\n"
     ]
    }
   ],
   "source": [
    "#todo: \n",
    "print(np.arange(0, 10, 1))\n"
   ]
  },
  {
   "cell_type": "markdown",
   "id": "cb894927",
   "metadata": {},
   "source": [
    "**Actividad 2:** Crea un array de 5 ceros, y luego cambia el tercer elemento (índice 2) para que sea 5. (Debes utilizar un metodo de numpy para su creacion.)"
   ]
  },
  {
   "cell_type": "code",
   "execution_count": 11,
   "id": "b9cd04a0",
   "metadata": {},
   "outputs": [
    {
     "name": "stdout",
     "output_type": "stream",
     "text": [
      "[0. 0. 0. 0. 0.]\n",
      "[0. 0. 5. 0. 0.]\n"
     ]
    }
   ],
   "source": [
    "#todo:\n",
    "array = np.zeros((5))\n",
    "print(array)\n",
    "array[2] = 5\n",
    "print(array)\n",
    "\n"
   ]
  },
  {
   "cell_type": "markdown",
   "id": "000352a3",
   "metadata": {},
   "source": [
    "**Actividad 3:** Genera una matriz 3x3 de números aleatorios entre 0 y 1."
   ]
  },
  {
   "cell_type": "code",
   "execution_count": 13,
   "id": "e74354c9",
   "metadata": {},
   "outputs": [
    {
     "name": "stdout",
     "output_type": "stream",
     "text": [
      "[[0.64919493 0.50098937 0.04844564]\n",
      " [0.9863562  0.88257942 0.7725535 ]\n",
      " [0.75996984 0.08690798 0.67317068]]\n"
     ]
    }
   ],
   "source": [
    "#todo: \n",
    "array1 = np.random.uniform(0, 1, (3, 3)) #especificamos primero el rango y la forma de la matriz\n",
    "print(array1)"
   ]
  },
  {
   "cell_type": "markdown",
   "id": "6611aaf8",
   "metadata": {},
   "source": [
    "**Actividad 4:** Dado el siguiente array `arr = np.array([10, 20, 30, 40, 50])`\n",
    "1. Suma 5 a cada elemento.\n",
    "2. Multiplica todo por un numero aleatorio (utiliza el modulo random para generarlo.)"
   ]
  },
  {
   "cell_type": "code",
   "execution_count": null,
   "id": "ed416e11",
   "metadata": {},
   "outputs": [
    {
     "name": "stdout",
     "output_type": "stream",
     "text": [
      "[15 25 35 45 55]\n",
      "3\n",
      "[ 30  60  90 120 150]\n"
     ]
    }
   ],
   "source": [
    "#todo:\n",
    "#1\n",
    "arr = np.array([10, 20, 30, 40, 50])\n",
    "suma = arr + 5\n",
    "print(suma) \n",
    "#2\n",
    "numero_aletorio = randint(0, 20)\n",
    "print(numero_aletorio) #Mostramos el nuemro aleatorio \n",
    "multiplicacion = arr * numero_aletorio\n",
    "print(multiplicacion)"
   ]
  },
  {
   "cell_type": "markdown",
   "id": "fbd05c4d",
   "metadata": {},
   "source": [
    "**Actividad 5:** Crea una matriz identidad de tamaño 4x4 (unos en la diagonal principal y ceros en el resto)."
   ]
  },
  {
   "cell_type": "code",
   "execution_count": null,
   "id": "6811c19f",
   "metadata": {},
   "outputs": [
    {
     "name": "stdout",
     "output_type": "stream",
     "text": [
      "[[1. 0. 0. 0.]\n",
      " [0. 1. 0. 0.]\n",
      " [0. 0. 1. 0.]\n",
      " [0. 0. 0. 1.]]\n"
     ]
    }
   ],
   "source": [
    "#todo:\n",
    "array2 = np.eye(4, 4) #matriz identidad de 4x4\n",
    "print(array2)"
   ]
  },
  {
   "cell_type": "markdown",
   "id": "3ec18459",
   "metadata": {},
   "source": [
    "**Actividad 6:** Crea un array que comience en 0 hasta el 20, pero que solo tenga numeros pares yu luego realiza las 4 operaciones basicas. (suma, resta, multiplicacion, division)."
   ]
  },
  {
   "cell_type": "code",
   "execution_count": 27,
   "id": "f0c02872",
   "metadata": {},
   "outputs": [
    {
     "name": "stdout",
     "output_type": "stream",
     "text": [
      "[ 0  2  4  6  8 10 12 14 16 18 20]\n",
      "110\n",
      "[-1  1  3  5  7  9 11 13 15 17 19]\n",
      "[ 0  2  4  6  8 10 12 14 16 18 20]\n",
      "[ 0.  1.  2.  3.  4.  5.  6.  7.  8.  9. 10.]\n"
     ]
    }
   ],
   "source": [
    "#todo: \n",
    "array3 = np.arange(0, 21, 2) #arreglo de 0 a 20 con paso de 2\n",
    "print(array3)\n",
    "\n",
    "suma = np.sum(array3) \n",
    "print(suma)\n",
    "resta = np.subtract(array3, 1) \n",
    "print(resta) \n",
    "multiplicacion = np.multiply(array3, 1)\n",
    "print(multiplicacion)\n",
    "division = np.divide(array3, 2)\n",
    "print(division)"
   ]
  }
 ],
 "metadata": {
  "kernelspec": {
   "display_name": "Python 3",
   "language": "python",
   "name": "python3"
  },
  "language_info": {
   "codemirror_mode": {
    "name": "ipython",
    "version": 3
   },
   "file_extension": ".py",
   "mimetype": "text/x-python",
   "name": "python",
   "nbconvert_exporter": "python",
   "pygments_lexer": "ipython3",
   "version": "3.12.9"
  }
 },
 "nbformat": 4,
 "nbformat_minor": 5
}
